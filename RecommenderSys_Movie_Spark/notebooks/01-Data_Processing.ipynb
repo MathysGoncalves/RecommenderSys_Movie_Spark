{
 "cells": [
  {
   "cell_type": "markdown",
   "metadata": {},
   "source": [
    "# Data Processing"
   ]
  },
  {
   "cell_type": "code",
   "execution_count": null,
   "metadata": {},
   "outputs": [],
   "source": [
    "import pandas as pd\n",
    "import numpy as np\n",
    "import databricks.koalas as ks\n",
    "import matplotlib.pyplot as plt\n",
    "import plotly as px\n",
    "import seaborn as sns\n",
    "\n",
    "from ast import literal_eval\n",
    "\n",
    "import findspark\n",
    "from pyspark.sql import SparkSession\n",
    "from pyspark.sql.functions import *\n",
    "\n",
    "ks.set_option('compute.ops_on_diff_frames', True)\n",
    "\n",
    "import warnings\n",
    "warnings.filterwarnings(\"ignore\")\n",
    "warnings.simplefilter('ignore')"
   ]
  },
  {
   "cell_type": "code",
   "execution_count": null,
   "metadata": {},
   "outputs": [],
   "source": [
    "findspark.init()\n",
    "spark = SparkSession.builder.master(\"local[*]\").getOrCreate()\n",
    "spark.sparkContext.setLogLevel(\"ERROR\")"
   ]
  },
  {
   "cell_type": "markdown",
   "metadata": {},
   "source": [
    "### Import Data"
   ]
  },
  {
   "cell_type": "code",
   "execution_count": null,
   "metadata": {},
   "outputs": [
    {
     "name": "stderr",
     "output_type": "stream",
     "text": [
      "                                                                                \r"
     ]
    },
    {
     "name": "stdout",
     "output_type": "stream",
     "text": [
      "root\n",
      " |-- userId: integer (nullable = true)\n",
      " |-- movieId: integer (nullable = true)\n",
      " |-- rating: double (nullable = true)\n",
      " |-- timestamp: integer (nullable = true)\n",
      "\n"
     ]
    },
    {
     "name": "stderr",
     "output_type": "stream",
     "text": [
      "                                                                                \r"
     ]
    },
    {
     "name": "stdout",
     "output_type": "stream",
     "text": [
      "26024289\n"
     ]
    }
   ],
   "source": [
    "ratings = spark.read.options(quote=\"\\\"\", escape=\"\\\"\", inferSchema=True, header=True, multiline=True)\\\n",
    "                   .csv(\"../data/raw/ratings.csv\")\n",
    "ratings.printSchema()\n",
    "print(ratings.count())\n",
    "ratings = ratings.to_koalas()"
   ]
  },
  {
   "cell_type": "code",
   "execution_count": null,
   "metadata": {},
   "outputs": [
    {
     "name": "stdout",
     "output_type": "stream",
     "text": [
      "root\n",
      " |-- userId: integer (nullable = true)\n",
      " |-- movieId: integer (nullable = true)\n",
      " |-- rating: double (nullable = true)\n",
      " |-- timestamp: integer (nullable = true)\n",
      "\n",
      "100004\n"
     ]
    }
   ],
   "source": [
    "ratings_small = spark.read.options(quote=\"\\\"\", escape=\"\\\"\", inferSchema=True, header=True, multiline=True)\\\n",
    "                   .csv(\"../data/raw/ratings_small.csv\")\n",
    "ratings_small.printSchema()\n",
    "print(ratings_small.count())\n",
    "movies = ratings_small.to_koalas()"
   ]
  },
  {
   "cell_type": "code",
   "execution_count": null,
   "metadata": {},
   "outputs": [
    {
     "name": "stderr",
     "output_type": "stream",
     "text": [
      "                                                                                \r"
     ]
    },
    {
     "name": "stdout",
     "output_type": "stream",
     "text": [
      "root\n",
      " |-- adult: string (nullable = true)\n",
      " |-- belongs_to_collection: string (nullable = true)\n",
      " |-- budget: string (nullable = true)\n",
      " |-- genres: string (nullable = true)\n",
      " |-- homepage: string (nullable = true)\n",
      " |-- id: string (nullable = true)\n",
      " |-- imdb_id: string (nullable = true)\n",
      " |-- original_language: string (nullable = true)\n",
      " |-- original_title: string (nullable = true)\n",
      " |-- overview: string (nullable = true)\n",
      " |-- popularity: string (nullable = true)\n",
      " |-- poster_path: string (nullable = true)\n",
      " |-- production_companies: string (nullable = true)\n",
      " |-- production_countries: string (nullable = true)\n",
      " |-- release_date: string (nullable = true)\n",
      " |-- revenue: long (nullable = true)\n",
      " |-- runtime: double (nullable = true)\n",
      " |-- spoken_languages: string (nullable = true)\n",
      " |-- status: string (nullable = true)\n",
      " |-- tagline: string (nullable = true)\n",
      " |-- title: string (nullable = true)\n",
      " |-- video: boolean (nullable = true)\n",
      " |-- vote_average: double (nullable = true)\n",
      " |-- vote_count: integer (nullable = true)\n",
      "\n",
      "45466\n"
     ]
    }
   ],
   "source": [
    "movies = spark.read.options(quote=\"\\\"\", escape=\"\\\"\", inferSchema=True, header=True, multiline=True)\\\n",
    "                   .csv(\"../data/raw/movies_metadata.csv\")\n",
    "movies.printSchema()\n",
    "print(movies.count())\n",
    "movies = movies.to_koalas()"
   ]
  },
  {
   "cell_type": "code",
   "execution_count": null,
   "metadata": {},
   "outputs": [
    {
     "name": "stderr",
     "output_type": "stream",
     "text": [
      "                                                                                \r"
     ]
    },
    {
     "name": "stdout",
     "output_type": "stream",
     "text": [
      "root\n",
      " |-- cast: string (nullable = true)\n",
      " |-- crew: string (nullable = true)\n",
      " |-- id: integer (nullable = true)\n",
      "\n",
      "45476\n"
     ]
    }
   ],
   "source": [
    "# import re\n",
    "# from pathlib import Path\n",
    "\n",
    "# p = \"../data/raw/credits.csv\"\n",
    "# p2 = \"../data/interim/credits.csv\"\n",
    "\n",
    "# with open(p, 'r') as f:\n",
    "#     with open(p2, 'w') as f2:\n",
    "#         for cnt, line in enumerate(f):\n",
    "#             if cnt == 0:\n",
    "#                 line = line.replace(',', '|')\n",
    "#             else:\n",
    "#                 line = re.sub(r',(?=(((?!\\]).)*\\[)|[^\\[\\]]*$)', '|', line)\n",
    "#             f2.write(line)\n",
    "\n",
    "# credits = spark.read.options(header='True', sep='|')\\\n",
    "#                    .csv(\"../data/interim/credits.csv\")\n",
    "# credits.printSchema()\n",
    "# print(credits.count())\n",
    "# credits = credits.to_koalas()\n",
    "\n",
    "credits = spark.read.options(quote=\"\\\"\", escape=\"\\\"\", inferSchema=True, header=True, multiline=True)\\\n",
    "                   .csv(\"../data/raw/credits.csv\")\n",
    "credits.printSchema()\n",
    "print(credits.count())\n",
    "credits = credits.to_koalas()"
   ]
  },
  {
   "cell_type": "code",
   "execution_count": null,
   "metadata": {},
   "outputs": [
    {
     "name": "stdout",
     "output_type": "stream",
     "text": [
      "root\n",
      " |-- id: integer (nullable = true)\n",
      " |-- keywords: string (nullable = true)\n",
      "\n",
      "46419\n"
     ]
    }
   ],
   "source": [
    "keywords = spark.read.options(quote=\"\\\"\", escape=\"\\\"\", inferSchema=True, header=True, multiline=True)\\\n",
    "                   .csv(\"../data/raw/keywords.csv\")\n",
    "keywords.printSchema()\n",
    "print(keywords.count())\n",
    "keywords = keywords.to_koalas()"
   ]
  },
  {
   "cell_type": "code",
   "execution_count": null,
   "metadata": {},
   "outputs": [
    {
     "name": "stdout",
     "output_type": "stream",
     "text": [
      "root\n",
      " |-- movieId: integer (nullable = true)\n",
      " |-- imdbId: integer (nullable = true)\n",
      " |-- tmdbId: integer (nullable = true)\n",
      "\n",
      "45843\n"
     ]
    }
   ],
   "source": [
    "links = spark.read.options(quote=\"\\\"\", escape=\"\\\"\", inferSchema=True, header=True, multiline=True)\\\n",
    "                   .csv(\"../data/raw/links.csv\")\n",
    "links.printSchema()\n",
    "print(links.count())\n",
    "links = links.to_koalas()"
   ]
  },
  {
   "cell_type": "code",
   "execution_count": null,
   "metadata": {},
   "outputs": [
    {
     "name": "stdout",
     "output_type": "stream",
     "text": [
      "root\n",
      " |-- movieId: integer (nullable = true)\n",
      " |-- imdbId: integer (nullable = true)\n",
      " |-- tmdbId: integer (nullable = true)\n",
      "\n",
      "9125\n"
     ]
    }
   ],
   "source": [
    "links_small = spark.read.options(quote=\"\\\"\", escape=\"\\\"\", inferSchema=True, header=True, multiline=True)\\\n",
    "                   .csv(\"../data/raw/links_small.csv\")\n",
    "links_small.printSchema()\n",
    "print(links_small.count())\n",
    "links_small = links_small.to_koalas()"
   ]
  },
  {
   "cell_type": "markdown",
   "metadata": {},
   "source": [
    "## Clean Data"
   ]
  },
  {
   "cell_type": "code",
   "execution_count": null,
   "metadata": {},
   "outputs": [
    {
     "data": {
      "text/plain": [
       "(45505, 24)"
      ]
     },
     "metadata": {},
     "output_type": "display_data"
    }
   ],
   "source": [
    "movies = movies.drop_duplicates(subset=['id'])\n",
    "movies.shape"
   ]
  },
  {
   "cell_type": "markdown",
   "metadata": {},
   "source": [
    "## Features Engineering"
   ]
  },
  {
   "cell_type": "markdown",
   "metadata": {},
   "source": [
    "Before getting started with this \n",
    "\n",
    "- we need a metric to score or rate movie\n",
    "- Calculate the score for every movie\n",
    "- Sort the scores and recommend the best rated movie to the users.\n",
    "\n",
    "We can use the average ratings of the movie as the score but using this won't be fair enough since a movie with 8.9 average rating and only 3 votes cannot be considered better than the movie with 7.8 as as average rating but 40 votes."
   ]
  },
  {
   "cell_type": "code",
   "execution_count": null,
   "metadata": {},
   "outputs": [
    {
     "name": "stderr",
     "output_type": "stream",
     "text": [
      "WARNING:root:Found pyspark version \"3.3.0\" installed. The pyspark version 3.2 and above has a built-in \"pandas APIs on Spark\" module ported from Koalas. Try `import pyspark.pandas as ps` instead. \n",
      "                                                                                \r"
     ]
    },
    {
     "data": {
      "text/html": [
       "<div>\n",
       "<style scoped>\n",
       "    .dataframe tbody tr th:only-of-type {\n",
       "        vertical-align: middle;\n",
       "    }\n",
       "\n",
       "    .dataframe tbody tr th {\n",
       "        vertical-align: top;\n",
       "    }\n",
       "\n",
       "    .dataframe thead th {\n",
       "        text-align: right;\n",
       "    }\n",
       "</style>\n",
       "<table border=\"1\" class=\"dataframe\">\n",
       "  <thead>\n",
       "    <tr style=\"text-align: right;\">\n",
       "      <th></th>\n",
       "      <th>title</th>\n",
       "      <th>popularity</th>\n",
       "      <th>vote_count</th>\n",
       "      <th>vote_average</th>\n",
       "      <th>score</th>\n",
       "    </tr>\n",
       "  </thead>\n",
       "  <tbody>\n",
       "    <tr>\n",
       "      <th>314</th>\n",
       "      <td>The Shawshank Redemption</td>\n",
       "      <td>51.645403</td>\n",
       "      <td>8358</td>\n",
       "      <td>8.5</td>\n",
       "      <td>8.445869</td>\n",
       "    </tr>\n",
       "    <tr>\n",
       "      <th>834</th>\n",
       "      <td>The Godfather</td>\n",
       "      <td>41.109264</td>\n",
       "      <td>6024</td>\n",
       "      <td>8.5</td>\n",
       "      <td>8.425439</td>\n",
       "    </tr>\n",
       "    <tr>\n",
       "      <th>10309</th>\n",
       "      <td>Dilwale Dulhania Le Jayenge</td>\n",
       "      <td>34.457024</td>\n",
       "      <td>661</td>\n",
       "      <td>9.1</td>\n",
       "      <td>8.421453</td>\n",
       "    </tr>\n",
       "    <tr>\n",
       "      <th>12481</th>\n",
       "      <td>The Dark Knight</td>\n",
       "      <td>123.167259</td>\n",
       "      <td>12269</td>\n",
       "      <td>8.3</td>\n",
       "      <td>8.265477</td>\n",
       "    </tr>\n",
       "    <tr>\n",
       "      <th>2843</th>\n",
       "      <td>Fight Club</td>\n",
       "      <td>63.869599</td>\n",
       "      <td>9678</td>\n",
       "      <td>8.3</td>\n",
       "      <td>8.256385</td>\n",
       "    </tr>\n",
       "    <tr>\n",
       "      <th>292</th>\n",
       "      <td>Pulp Fiction</td>\n",
       "      <td>140.950236</td>\n",
       "      <td>8670</td>\n",
       "      <td>8.3</td>\n",
       "      <td>8.251406</td>\n",
       "    </tr>\n",
       "    <tr>\n",
       "      <th>522</th>\n",
       "      <td>Schindler's List</td>\n",
       "      <td>41.725123</td>\n",
       "      <td>4436</td>\n",
       "      <td>8.3</td>\n",
       "      <td>8.206639</td>\n",
       "    </tr>\n",
       "    <tr>\n",
       "      <th>23673</th>\n",
       "      <td>Whiplash</td>\n",
       "      <td>64.29999</td>\n",
       "      <td>4376</td>\n",
       "      <td>8.3</td>\n",
       "      <td>8.205404</td>\n",
       "    </tr>\n",
       "    <tr>\n",
       "      <th>5481</th>\n",
       "      <td>Spirited Away</td>\n",
       "      <td>41.048867</td>\n",
       "      <td>3968</td>\n",
       "      <td>8.3</td>\n",
       "      <td>8.196055</td>\n",
       "    </tr>\n",
       "    <tr>\n",
       "      <th>2211</th>\n",
       "      <td>Life Is Beautiful</td>\n",
       "      <td>39.39497</td>\n",
       "      <td>3643</td>\n",
       "      <td>8.3</td>\n",
       "      <td>8.187171</td>\n",
       "    </tr>\n",
       "  </tbody>\n",
       "</table>\n",
       "</div>"
      ],
      "text/plain": [
       "                             title  popularity  vote_count  vote_average     score\n",
       "314       The Shawshank Redemption   51.645403        8358           8.5  8.445869\n",
       "834                  The Godfather   41.109264        6024           8.5  8.425439\n",
       "10309  Dilwale Dulhania Le Jayenge   34.457024         661           9.1  8.421453\n",
       "12481              The Dark Knight  123.167259       12269           8.3  8.265477\n",
       "2843                    Fight Club   63.869599        9678           8.3  8.256385\n",
       "292                   Pulp Fiction  140.950236        8670           8.3  8.251406\n",
       "522               Schindler's List   41.725123        4436           8.3  8.206639\n",
       "23673                     Whiplash    64.29999        4376           8.3  8.205404\n",
       "5481                 Spirited Away   41.048867        3968           8.3  8.196055\n",
       "2211             Life Is Beautiful    39.39497        3643           8.3  8.187171"
      ]
     },
     "metadata": {},
     "output_type": "display_data"
    }
   ],
   "source": [
    "c = movies['vote_average'].mean()\n",
    "m = movies['vote_count'].quantile(0.9)                              # We will use 90th percentile as our cutoff -> must have more votes than at least 90% of the movies in the list.\n",
    "\n",
    "def weighted_rating(x, m=m, C=c):\n",
    "    v = x['vote_count']\n",
    "    r = x['vote_average']\n",
    "    \n",
    "    return (v/(v+m) * r) + (m/(m+v) * C)                            # Calculation based on the IMDB formula\n",
    "\n",
    "q_movies = movies.copy().loc[movies['vote_count'] >= m]             # Filter out the movies that qualify for the chart\n",
    "q_movies['score'] = q_movies.apply(weighted_rating, axis=1)\n",
    "\n",
    "q_movies = q_movies.sort_values('score', ascending=False)           #Sort movies based on score calculated above\n",
    "q_movies[['title', 'popularity', 'vote_count', 'vote_average', 'score']].head(10) #Print the top 15 movies"
   ]
  },
  {
   "cell_type": "markdown",
   "metadata": {},
   "source": [
    "### Genre "
   ]
  }
 ],
 "metadata": {
  "kernelspec": {
   "display_name": "Python 3.7.15 ('koalas-env')",
   "language": "python",
   "name": "python3"
  },
  "language_info": {
   "name": "python",
   "version": "3.7.15"
  },
  "orig_nbformat": 4,
  "vscode": {
   "interpreter": {
    "hash": "15dfda060f4494a85323120163531dcb0097cfca9fbb3101d6367d20895a45ab"
   }
  }
 },
 "nbformat": 4,
 "nbformat_minor": 2
}
