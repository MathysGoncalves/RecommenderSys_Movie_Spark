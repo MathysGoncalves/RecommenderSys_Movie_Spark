{
 "cells": [
  {
   "cell_type": "code",
   "execution_count": null,
   "metadata": {},
   "outputs": [],
   "source": []
  }
 ],
 "metadata": {
  "kernelspec": {
   "display_name": "Python 3.10.8 ('spark-env')",
   "language": "python",
   "name": "python3"
  },
  "language_info": {
   "name": "python",
   "version": "3.10.8"
  },
  "orig_nbformat": 4,
  "vscode": {
   "interpreter": {
    "hash": "f14ca35ba395129438410cba229f00dd29b9980038a0c61c231eb6a4a27537ce"
   }
  }
 },
 "nbformat": 4,
 "nbformat_minor": 2
}
