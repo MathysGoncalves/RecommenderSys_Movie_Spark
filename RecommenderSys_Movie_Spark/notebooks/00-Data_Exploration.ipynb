{
  "cells": [
    {
      "cell_type": "code",
      "execution_count": 1,
      "metadata": {
        "id": "jzwkAzES80ad"
      },
      "outputs": [],
      "source": [
        "!wget -q https://archive.apache.org/dist/spark/spark-3.1.1/spark-3.1.1-bin-hadoop3.2.tgz"
      ]
    },
    {
      "cell_type": "code",
      "execution_count": 2,
      "metadata": {
        "id": "l47hL23S9TI3"
      },
      "outputs": [],
      "source": [
        "!apt-get install openjdk-11-jdk-headless -qq> /dev/null"
      ]
    },
    {
      "cell_type": "code",
      "execution_count": 3,
      "metadata": {
        "id": "v1CUGvy59Ylk"
      },
      "outputs": [],
      "source": [
        "!tar xf spark-3.1.1-bin-hadoop3.2.tgz"
      ]
    },
    {
      "cell_type": "code",
      "execution_count": 4,
      "metadata": {
        "id": "6_5A-pdW9bOP"
      },
      "outputs": [],
      "source": [
        "!pip install -q findspark"
      ]
    },
    {
      "cell_type": "code",
      "execution_count": 5,
      "metadata": {
        "colab": {
          "base_uri": "https://localhost:8080/"
        },
        "id": "SKSVrqCb-Lal",
        "outputId": "112487ba-30e5-43a8-d862-19f9fe8e085b"
      },
      "outputs": [
        {
          "name": "stdout",
          "output_type": "stream",
          "text": [
            "Looking in indexes: https://pypi.org/simple, https://us-python.pkg.dev/colab-wheels/public/simple/\n",
            "Collecting koalas\n",
            "  Downloading koalas-1.8.2-py3-none-any.whl (390 kB)\n",
            "\u001b[2K     \u001b[90m━━━━━━━━━━━━━━━━━━━━━━━━━━━━━━━━━━━━━━━\u001b[0m \u001b[32m390.8/390.8 KB\u001b[0m \u001b[31m8.3 MB/s\u001b[0m eta \u001b[36m0:00:00\u001b[0m\n",
            "\u001b[?25hRequirement already satisfied: pandas>=0.23.2 in /usr/local/lib/python3.8/dist-packages (from koalas) (1.3.5)\n",
            "Requirement already satisfied: numpy>=1.14 in /usr/local/lib/python3.8/dist-packages (from koalas) (1.21.6)\n",
            "Requirement already satisfied: pyarrow>=0.10 in /usr/local/lib/python3.8/dist-packages (from koalas) (9.0.0)\n",
            "Requirement already satisfied: pytz>=2017.3 in /usr/local/lib/python3.8/dist-packages (from pandas>=0.23.2->koalas) (2022.7)\n",
            "Requirement already satisfied: python-dateutil>=2.7.3 in /usr/local/lib/python3.8/dist-packages (from pandas>=0.23.2->koalas) (2.8.2)\n",
            "Requirement already satisfied: six>=1.5 in /usr/local/lib/python3.8/dist-packages (from python-dateutil>=2.7.3->pandas>=0.23.2->koalas) (1.15.0)\n",
            "Installing collected packages: koalas\n",
            "Successfully installed koalas-1.8.2\n"
          ]
        }
      ],
      "source": [
        "!pip install koalas"
      ]
    },
    {
      "cell_type": "code",
      "execution_count": 6,
      "metadata": {
        "colab": {
          "base_uri": "https://localhost:8080/"
        },
        "id": "6jl0XTswAsIw",
        "outputId": "af43e707-5741-4858-d701-01d00bab50f2"
      },
      "outputs": [
        {
          "name": "stdout",
          "output_type": "stream",
          "text": [
            "Looking in indexes: https://pypi.org/simple, https://us-python.pkg.dev/colab-wheels/public/simple/\n",
            "Collecting spark-df-profiling-new\n",
            "  Downloading spark-df-profiling-new-1.1.14.tar.gz (86 kB)\n",
            "\u001b[2K     \u001b[90m━━━━━━━━━━━━━━━━━━━━━━━━━━━━━━━━━━━━━━━━\u001b[0m \u001b[32m86.8/86.8 KB\u001b[0m \u001b[31m3.3 MB/s\u001b[0m eta \u001b[36m0:00:00\u001b[0m\n",
            "\u001b[?25h  Preparing metadata (setup.py) ... \u001b[?25l\u001b[?25hdone\n",
            "Building wheels for collected packages: spark-df-profiling-new\n",
            "  Building wheel for spark-df-profiling-new (setup.py) ... \u001b[?25l\u001b[?25hdone\n",
            "  Created wheel for spark-df-profiling-new: filename=spark_df_profiling_new-1.1.14-py3-none-any.whl size=92076 sha256=ed28243f26bb6c3649a80334cb91ce97d9d9f7f8877601a8021078cd992fcfea\n",
            "  Stored in directory: /root/.cache/pip/wheels/ff/bf/de/f525f8bee6fc166a4216204bcf64477c8f152a380dfa8b5cd0\n",
            "Successfully built spark-df-profiling-new\n",
            "Installing collected packages: spark-df-profiling-new\n",
            "Successfully installed spark-df-profiling-new-1.1.14\n"
          ]
        }
      ],
      "source": [
        "!pip install --no-deps spark-df-profiling-new"
      ]
    },
    {
      "cell_type": "code",
      "execution_count": 7,
      "metadata": {
        "id": "6KDh39s69oQ7"
      },
      "outputs": [],
      "source": [
        "import matplotlib.pyplot as plt\n",
        "import seaborn as sns\n",
        "import pandas as pd\n",
        "import numpy as np\n",
        "import os"
      ]
    },
    {
      "cell_type": "code",
      "execution_count": 8,
      "metadata": {
        "id": "MEJh6afB9p3B"
      },
      "outputs": [],
      "source": [
        "# set spark folder to the system path env\n",
        "import os\n",
        "os.environ[\"JAVA_home\"] = \"/usr/lib/jvm/java-11-openjdk-amd64\"\n",
        "os.environ[\"SPARK_HOME\"] = \"/content/spark-3.1.1-bin-hadoop3.2\""
      ]
    },
    {
      "cell_type": "code",
      "execution_count": 9,
      "metadata": {
        "id": "MDaevNLe-rPp"
      },
      "outputs": [],
      "source": [
        "import findspark\n",
        "findspark.init()\n",
        "from pyspark.sql import SparkSession\n",
        "spark = SparkSession.builder.master(\"local[*]\").getOrCreate()"
      ]
    },
    {
      "cell_type": "code",
      "execution_count": 10,
      "metadata": {
        "colab": {
          "base_uri": "https://localhost:8080/"
        },
        "id": "aRFHfSdb-CmX",
        "outputId": "4007d117-306b-4e11-cb47-b59ce08cf102"
      },
      "outputs": [
        {
          "name": "stderr",
          "output_type": "stream",
          "text": [
            "WARNING:root:'PYARROW_IGNORE_TIMEZONE' environment variable was not set. It is required to set this environment variable to '1' in both driver and executor sides if you use pyarrow>=2.0.0. Koalas will set it for you but it does not work if there is a Spark context already launched.\n"
          ]
        }
      ],
      "source": [
        "import databricks.koalas as ks\n",
        "# set koalas\n",
        "ks.set_option('compute.ops_on_diff_frames', True)"
      ]
    },
    {
      "cell_type": "markdown",
      "metadata": {
        "id": "YRhhP4J0BKjI"
      },
      "source": [
        "### Read dataset from Google Drive"
      ]
    },
    {
      "cell_type": "code",
      "execution_count": 11,
      "metadata": {
        "colab": {
          "base_uri": "https://localhost:8080/"
        },
        "id": "8pOfKqWi6Itb",
        "outputId": "cd2a12f0-1bb9-469f-e508-e50ae9198167"
      },
      "outputs": [
        {
          "name": "stdout",
          "output_type": "stream",
          "text": [
            "Mounted at /content/gdrive\n"
          ]
        }
      ],
      "source": [
        "from google.colab import drive\n",
        "drive.mount('/content/gdrive', force_remount=True)"
      ]
    },
    {
      "cell_type": "code",
      "execution_count": 12,
      "metadata": {
        "id": "Y6SfSWxAJdCS"
      },
      "outputs": [],
      "source": [
        "mkdir data"
      ]
    },
    {
      "cell_type": "code",
      "execution_count": 13,
      "metadata": {
        "id": "2OinTF3s7Y88"
      },
      "outputs": [],
      "source": [
        "cp /content/gdrive/MyDrive/'Colab Notebooks'/dataBDF2/data.zip /content/data/data.zip"
      ]
    },
    {
      "cell_type": "code",
      "execution_count": 14,
      "metadata": {
        "colab": {
          "base_uri": "https://localhost:8080/"
        },
        "id": "U2QOtwkt6w2n",
        "outputId": "5cc596ee-c14a-44d2-a590-1eaecadb557d"
      },
      "outputs": [
        {
          "name": "stdout",
          "output_type": "stream",
          "text": [
            "Archive:  data/data.zip\n",
            "  inflating: data/credits.csv        \n",
            "  inflating: data/keywords.csv       \n",
            "  inflating: data/links_small.csv    \n",
            "  inflating: data/movies_metadata.csv  \n",
            "  inflating: data/ratings_small.csv  \n"
          ]
        }
      ],
      "source": [
        "!unzip data/data.zip -d data"
      ]
    },
    {
      "cell_type": "code",
      "execution_count": 15,
      "metadata": {
        "id": "l2oOUTW93MKz"
      },
      "outputs": [],
      "source": [
        "from IPython.utils import encoding\n",
        "from IPython.utils.py3compat import encode\n",
        "# read files\n",
        "df_credits = spark.read.options(quote=\"\\\"\", escape=\"\\\"\",multiline=True).csv('data/credits.csv', inferSchema=True, header=True).distinct()\n",
        "df_keywords = spark.read.options(quote=\"\\\"\", escape=\"\\\"\",multiline=True).csv('data/keywords.csv', inferSchema=True, header=True).distinct()\n",
        "df_links = spark.read.options(quote=\"\\\"\", escape=\"\\\"\",multiline=True).csv('data/links_small.csv', inferSchema=True, header=True).distinct()\n",
        "df_movies_metadata = spark.read.options(quote=\"\\\"\", escape=\"\\\"\",multiline=True).csv('data/movies_metadata.csv', inferSchema=True, header=True).distinct()\n",
        "df_ratings_small = spark.read.options(quote=\"\\\"\", escape=\"\\\"\",multiline=True).csv('data/ratings_small.csv', inferSchema=True, header=True).distinct()"
      ]
    },
    {
      "cell_type": "code",
      "execution_count": 16,
      "metadata": {
        "id": "KBStB8KdM2fR"
      },
      "outputs": [],
      "source": [
        "df_movies_metadata = df_movies_metadata.na.drop(subset=[\"vote_average\"]) #Remove a few wrong data rows"
      ]
    },
    {
      "cell_type": "markdown",
      "metadata": {
        "id": "1D8Hf-3kibCn"
      },
      "source": [
        "### Raw Data Exploration"
      ]
    },
    {
      "cell_type": "markdown",
      "metadata": {
        "id": "Y07UQUq6jMZ2"
      },
      "source": [
        "Duplicates have been cleared before exploring the data with spark_df_profiling package. \n"
      ]
    },
    {
      "cell_type": "code",
      "execution_count": 17,
      "metadata": {
        "id": "00rJ6MIyHFoh"
      },
      "outputs": [],
      "source": [
        "import spark_df_profiling"
      ]
    },
    {
      "cell_type": "code",
      "execution_count": 18,
      "metadata": {
        "id": "2PlFdD8KJUv9"
      },
      "outputs": [],
      "source": [
        "mkdir profiles"
      ]
    },
    {
      "attachments": {},
      "cell_type": "markdown",
      "metadata": {
        "id": "0iY6sHFRYeud"
      },
      "source": [
        "Create profiles that delivers many informations over each features included in a dataset such as distinct count, mean, median and other stats. \n",
        "Example with the feature 'vote_average' :"
      ]
    },
    {
      "attachments": {},
      "cell_type": "markdown",
      "metadata": {
        "id": "xDoJeFEjY4MV"
      },
      "source": [
        "<img src=\"profile_example/vote_average_profile_example.png\" width=\"500\">"
      ]
    },
    {
      "cell_type": "code",
      "execution_count": 19,
      "metadata": {
        "colab": {
          "base_uri": "https://localhost:8080/",
          "height": 35
        },
        "id": "qsnpK725HGuP",
        "outputId": "4bcf8d37-c5da-4e36-f3b3-cf8d935e7235"
      },
      "outputs": [
        {
          "data": {
            "application/vnd.google.colaboratory.intrinsic+json": {
              "type": "string"
            },
            "text/plain": [
              "'\\nprofile = spark_df_profiling.ProfileReport(df_credits)\\nprofile.to_file(outputfile=\"/content/profiles/credits_profile.html\")'"
            ]
          },
          "execution_count": 19,
          "metadata": {},
          "output_type": "execute_result"
        }
      ],
      "source": [
        "# Datasets profiling for quick overview in HTML format\n",
        "# Commented to avoid creating again\n",
        "\"\"\"\n",
        "profile = spark_df_profiling.ProfileReport(df_credits)\n",
        "profile.to_file(outputfile=\"/content/profiles/credits_profile.html\")\"\"\""
      ]
    },
    {
      "cell_type": "code",
      "execution_count": 20,
      "metadata": {
        "colab": {
          "base_uri": "https://localhost:8080/",
          "height": 35
        },
        "id": "6QLQQBD7I4Tw",
        "outputId": "43190a9a-1761-435c-d36a-55d40b1b5489"
      },
      "outputs": [
        {
          "data": {
            "application/vnd.google.colaboratory.intrinsic+json": {
              "type": "string"
            },
            "text/plain": [
              "'profile = spark_df_profiling.ProfileReport(df_keywords)\\nprofile.to_file(outputfile=\"/content/profiles/keywords_profile.html\")'"
            ]
          },
          "execution_count": 20,
          "metadata": {},
          "output_type": "execute_result"
        }
      ],
      "source": [
        "\"\"\"profile = spark_df_profiling.ProfileReport(df_keywords)\n",
        "profile.to_file(outputfile=\"/content/profiles/keywords_profile.html\")\"\"\""
      ]
    },
    {
      "cell_type": "code",
      "execution_count": 21,
      "metadata": {
        "colab": {
          "base_uri": "https://localhost:8080/",
          "height": 35
        },
        "id": "kbl8no8JJA8T",
        "outputId": "b3247d83-5f63-4963-a458-6ed02db73c6d"
      },
      "outputs": [
        {
          "data": {
            "application/vnd.google.colaboratory.intrinsic+json": {
              "type": "string"
            },
            "text/plain": [
              "'profile = spark_df_profiling.ProfileReport(df_links)\\nprofile.to_file(outputfile=\"/content/profiles/links_profile.html\")'"
            ]
          },
          "execution_count": 21,
          "metadata": {},
          "output_type": "execute_result"
        }
      ],
      "source": [
        "\"\"\"profile = spark_df_profiling.ProfileReport(df_links)\n",
        "profile.to_file(outputfile=\"/content/profiles/links_profile.html\")\"\"\""
      ]
    },
    {
      "cell_type": "code",
      "execution_count": 22,
      "metadata": {
        "colab": {
          "base_uri": "https://localhost:8080/",
          "height": 35
        },
        "id": "_Q4tzXkiJmuH",
        "outputId": "f2544e9a-2ab7-415a-b87c-eac512030aa0"
      },
      "outputs": [
        {
          "data": {
            "application/vnd.google.colaboratory.intrinsic+json": {
              "type": "string"
            },
            "text/plain": [
              "'profile = spark_df_profiling.ProfileReport(df_movies_metadata)\\nprofile.to_file(outputfile=\"/content/profiles/movies_metadata_profile.html\")'"
            ]
          },
          "execution_count": 22,
          "metadata": {},
          "output_type": "execute_result"
        }
      ],
      "source": [
        "\"\"\"profile = spark_df_profiling.ProfileReport(df_movies_metadata)\n",
        "profile.to_file(outputfile=\"/content/profiles/movies_metadata_profile.html\")\"\"\""
      ]
    },
    {
      "cell_type": "code",
      "execution_count": 23,
      "metadata": {
        "colab": {
          "base_uri": "https://localhost:8080/",
          "height": 35
        },
        "id": "svC18oXXJ3bR",
        "outputId": "118e6621-b1d8-447c-fa59-6e458250f0aa"
      },
      "outputs": [
        {
          "data": {
            "application/vnd.google.colaboratory.intrinsic+json": {
              "type": "string"
            },
            "text/plain": [
              "'profile = spark_df_profiling.ProfileReport(df_ratings_small)\\nprofile.to_file(outputfile=\"/content/profiles/ratings_profile.html\")'"
            ]
          },
          "execution_count": 23,
          "metadata": {},
          "output_type": "execute_result"
        }
      ],
      "source": [
        "\"\"\"profile = spark_df_profiling.ProfileReport(df_ratings_small)\n",
        "profile.to_file(outputfile=\"/content/profiles/ratings_profile.html\")\"\"\""
      ]
    },
    {
      "cell_type": "code",
      "execution_count": 24,
      "metadata": {
        "id": "i43HdiS7IcHJ"
      },
      "outputs": [],
      "source": [
        "movies = df_movies_metadata.to_koalas()"
      ]
    },
    {
      "cell_type": "markdown",
      "metadata": {
        "id": "E1031f1JkgsN"
      },
      "source": [
        "Some informations didn't properly show up on the profiles such as \"budget\" column being wrongly displayed as a categorical feature."
      ]
    },
    {
      "cell_type": "code",
      "execution_count": 25,
      "metadata": {
        "colab": {
          "base_uri": "https://localhost:8080/"
        },
        "id": "k473pirEoEtS",
        "outputId": "711501b5-7f59-4fb8-a525-20dcfff0230b"
      },
      "outputs": [
        {
          "name": "stdout",
          "output_type": "stream",
          "text": [
            "<class 'databricks.koalas.frame.DataFrame'>\n",
            "Int64Index: 45443 entries, 0 to 45442\n",
            "Data columns (total 24 columns):\n",
            " #   Column                 Non-Null Count  Dtype  \n",
            "---  ------                 --------------  -----  \n",
            " 0   adult                  45443 non-null  object \n",
            " 1   belongs_to_collection  4489 non-null   object \n",
            " 2   budget                 45443 non-null  object \n",
            " 3   genres                 45443 non-null  object \n",
            " 4   homepage               7776 non-null   object \n",
            " 5   id                     45443 non-null  object \n",
            " 6   imdb_id                45426 non-null  object \n",
            " 7   original_language      45432 non-null  object \n",
            " 8   original_title         45443 non-null  object \n",
            " 9   overview               44489 non-null  object \n",
            " 10  popularity             45443 non-null  object \n",
            " 11  poster_path            45060 non-null  object \n",
            " 12  production_companies   45443 non-null  object \n",
            " 13  production_countries   45443 non-null  object \n",
            " 14  release_date           45359 non-null  object \n",
            " 15  revenue                45443 non-null  int64  \n",
            " 16  runtime                45186 non-null  float64\n",
            " 17  spoken_languages       45443 non-null  object \n",
            " 18  status                 45362 non-null  object \n",
            " 19  tagline                20407 non-null  object \n",
            " 20  title                  45443 non-null  object \n",
            " 21  video                  45443 non-null  bool   \n",
            " 22  vote_average           45443 non-null  float64\n",
            " 23  vote_count             45443 non-null  int32  \n",
            "dtypes: bool(1), float64(2), int32(1), int64(1), object(19)"
          ]
        }
      ],
      "source": [
        "movies.info()"
      ]
    },
    {
      "cell_type": "markdown",
      "metadata": {
        "id": "Saq1R1L1p7WZ"
      },
      "source": [
        "Dtype \"object\" columns may contain multiple types. Otherwise, the type can just be changed to the correct one."
      ]
    },
    {
      "cell_type": "markdown",
      "metadata": {
        "id": "SK6fUl4trHQo"
      },
      "source": [
        "Example with \"budget\" column:"
      ]
    },
    {
      "cell_type": "code",
      "execution_count": 26,
      "metadata": {
        "colab": {
          "base_uri": "https://localhost:8080/",
          "height": 205
        },
        "id": "nSPEylJfq8ro",
        "outputId": "c7d81bd3-986a-4bf5-e702-08a00911e6a7"
      },
      "outputs": [
        {
          "data": {
            "text/html": [
              "<div>\n",
              "<style scoped>\n",
              "    .dataframe tbody tr th:only-of-type {\n",
              "        vertical-align: middle;\n",
              "    }\n",
              "\n",
              "    .dataframe tbody tr th {\n",
              "        vertical-align: top;\n",
              "    }\n",
              "\n",
              "    .dataframe thead th {\n",
              "        text-align: right;\n",
              "    }\n",
              "</style>\n",
              "<table border=\"1\" class=\"dataframe\">\n",
              "  <thead>\n",
              "    <tr style=\"text-align: right;\">\n",
              "      <th></th>\n",
              "      <th>adult</th>\n",
              "      <th>belongs_to_collection</th>\n",
              "      <th>budget</th>\n",
              "      <th>genres</th>\n",
              "      <th>homepage</th>\n",
              "      <th>id</th>\n",
              "      <th>imdb_id</th>\n",
              "      <th>original_language</th>\n",
              "      <th>original_title</th>\n",
              "      <th>overview</th>\n",
              "      <th>popularity</th>\n",
              "      <th>poster_path</th>\n",
              "      <th>production_companies</th>\n",
              "      <th>production_countries</th>\n",
              "      <th>release_date</th>\n",
              "      <th>revenue</th>\n",
              "      <th>runtime</th>\n",
              "      <th>spoken_languages</th>\n",
              "      <th>status</th>\n",
              "      <th>tagline</th>\n",
              "      <th>title</th>\n",
              "      <th>video</th>\n",
              "      <th>vote_average</th>\n",
              "      <th>vote_count</th>\n",
              "    </tr>\n",
              "  </thead>\n",
              "  <tbody>\n",
              "    <tr>\n",
              "      <th>18924</th>\n",
              "      <td>False</td>\n",
              "      <td>{'id': 295, 'name': 'Pirates of the Caribbean ...</td>\n",
              "      <td>380000000</td>\n",
              "      <td>[{'id': 12, 'name': 'Adventure'}, {'id': 28, '...</td>\n",
              "      <td>http://disney.go.com/pirates/index-on-stranger...</td>\n",
              "      <td>1865</td>\n",
              "      <td>tt1298650</td>\n",
              "      <td>en</td>\n",
              "      <td>Pirates of the Caribbean: On Stranger Tides</td>\n",
              "      <td>Captain Jack Sparrow crosses paths with a woma...</td>\n",
              "      <td>27.88772</td>\n",
              "      <td>/wNUDAq5OUMOtxMlz64YaCp7gZma.jpg</td>\n",
              "      <td>[{'name': 'Walt Disney Pictures', 'id': 2}, {'...</td>\n",
              "      <td>[{'iso_3166_1': 'US', 'name': 'United States o...</td>\n",
              "      <td>2011-05-14</td>\n",
              "      <td>1045713802</td>\n",
              "      <td>136.0</td>\n",
              "      <td>[{'iso_639_1': 'en', 'name': 'English'}, {'iso...</td>\n",
              "      <td>Released</td>\n",
              "      <td>Live Forever Or Die Trying.</td>\n",
              "      <td>Pirates of the Caribbean: On Stranger Tides</td>\n",
              "      <td>False</td>\n",
              "      <td>6.4</td>\n",
              "      <td>5068</td>\n",
              "    </tr>\n",
              "  </tbody>\n",
              "</table>\n",
              "</div>"
            ],
            "text/plain": [
              "       adult                                                                                                                                               belongs_to_collection     budget                                                                                          genres                                                           homepage    id    imdb_id original_language                               original_title                                                                                                                                                                                                                                                                                                                                                                                                                     overview popularity                       poster_path                                                                                                                                production_companies                                        production_countries release_date     revenue  runtime                                                                  spoken_languages    status                      tagline                                        title  video  vote_average  vote_count\n",
              "18924  False  {'id': 295, 'name': 'Pirates of the Caribbean Collection', 'poster_path': '/zT5UKFhq9nk97VGlBbAxlAK8UFN.jpg', 'backdrop_path': '/cnKAGbX1rDkAquF2V1wVkptHDJO.jpg'}  380000000  [{'id': 12, 'name': 'Adventure'}, {'id': 28, 'name': 'Action'}, {'id': 14, 'name': 'Fantasy'}]  http://disney.go.com/pirates/index-on-stranger-tides.html#/video/  1865  tt1298650                en  Pirates of the Caribbean: On Stranger Tides  Captain Jack Sparrow crosses paths with a woman from his past, and he's not sure if it's love -- or if she's a ruthless con artist who's using him to find the fabled Fountain of Youth. When she forces him aboard the Queen Anne's Revenge, the ship of the formidable pirate Blackbeard, Jack finds himself on an unexpected adventure in which he doesn't know who to fear more: Blackbeard or the woman from his past.   27.88772  /wNUDAq5OUMOtxMlz64YaCp7gZma.jpg  [{'name': 'Walt Disney Pictures', 'id': 2}, {'name': 'Jerry Bruckheimer Films', 'id': 130}, {'name': 'Moving Picture Company (MPC)', 'id': 20478}]  [{'iso_3166_1': 'US', 'name': 'United States of America'}]   2011-05-14  1045713802    136.0  [{'iso_639_1': 'en', 'name': 'English'}, {'iso_639_1': 'es', 'name': 'Español'}]  Released  Live Forever Or Die Trying.  Pirates of the Caribbean: On Stranger Tides  False           6.4        5068"
            ]
          },
          "execution_count": 26,
          "metadata": {},
          "output_type": "execute_result"
        }
      ],
      "source": [
        "# Seeking for budget over 300M$ to check max budget value\n",
        "movies[movies['budget']>300000000]"
      ]
    },
    {
      "cell_type": "code",
      "execution_count": 27,
      "metadata": {
        "colab": {
          "base_uri": "https://localhost:8080/",
          "height": 300
        },
        "id": "rGMinrrPo3Kf",
        "outputId": "c1e1bfb7-d918-4787-b298-054cc8c6c4ef"
      },
      "outputs": [
        {
          "data": {
            "text/html": [
              "<div>\n",
              "<style scoped>\n",
              "    .dataframe tbody tr th:only-of-type {\n",
              "        vertical-align: middle;\n",
              "    }\n",
              "\n",
              "    .dataframe tbody tr th {\n",
              "        vertical-align: top;\n",
              "    }\n",
              "\n",
              "    .dataframe thead th {\n",
              "        text-align: right;\n",
              "    }\n",
              "</style>\n",
              "<table border=\"1\" class=\"dataframe\">\n",
              "  <thead>\n",
              "    <tr style=\"text-align: right;\">\n",
              "      <th></th>\n",
              "      <th>budget</th>\n",
              "      <th>revenue</th>\n",
              "      <th>runtime</th>\n",
              "      <th>vote_average</th>\n",
              "      <th>vote_count</th>\n",
              "    </tr>\n",
              "  </thead>\n",
              "  <tbody>\n",
              "    <tr>\n",
              "      <th>count</th>\n",
              "      <td>4.544300e+04</td>\n",
              "      <td>4.544300e+04</td>\n",
              "      <td>45186.000000</td>\n",
              "      <td>45443.000000</td>\n",
              "      <td>45443.000000</td>\n",
              "    </tr>\n",
              "    <tr>\n",
              "      <th>mean</th>\n",
              "      <td>4.226417e+06</td>\n",
              "      <td>1.121350e+07</td>\n",
              "      <td>94.126234</td>\n",
              "      <td>5.618311</td>\n",
              "      <td>109.922210</td>\n",
              "    </tr>\n",
              "    <tr>\n",
              "      <th>std</th>\n",
              "      <td>1.742775e+07</td>\n",
              "      <td>6.434392e+07</td>\n",
              "      <td>38.412464</td>\n",
              "      <td>1.924092</td>\n",
              "      <td>491.398368</td>\n",
              "    </tr>\n",
              "    <tr>\n",
              "      <th>min</th>\n",
              "      <td>0.000000e+00</td>\n",
              "      <td>0.000000e+00</td>\n",
              "      <td>0.000000</td>\n",
              "      <td>0.000000</td>\n",
              "      <td>0.000000</td>\n",
              "    </tr>\n",
              "    <tr>\n",
              "      <th>25%</th>\n",
              "      <td>0.000000e+00</td>\n",
              "      <td>0.000000e+00</td>\n",
              "      <td>85.000000</td>\n",
              "      <td>5.000000</td>\n",
              "      <td>3.000000</td>\n",
              "    </tr>\n",
              "    <tr>\n",
              "      <th>50%</th>\n",
              "      <td>0.000000e+00</td>\n",
              "      <td>0.000000e+00</td>\n",
              "      <td>95.000000</td>\n",
              "      <td>6.000000</td>\n",
              "      <td>10.000000</td>\n",
              "    </tr>\n",
              "    <tr>\n",
              "      <th>75%</th>\n",
              "      <td>0.000000e+00</td>\n",
              "      <td>0.000000e+00</td>\n",
              "      <td>107.000000</td>\n",
              "      <td>6.800000</td>\n",
              "      <td>34.000000</td>\n",
              "    </tr>\n",
              "    <tr>\n",
              "      <th>max</th>\n",
              "      <td>3.800000e+08</td>\n",
              "      <td>2.787965e+09</td>\n",
              "      <td>1256.000000</td>\n",
              "      <td>10.000000</td>\n",
              "      <td>14075.000000</td>\n",
              "    </tr>\n",
              "  </tbody>\n",
              "</table>\n",
              "</div>"
            ],
            "text/plain": [
              "             budget       revenue       runtime  vote_average    vote_count\n",
              "count  4.544300e+04  4.544300e+04  45186.000000  45443.000000  45443.000000\n",
              "mean   4.226417e+06  1.121350e+07     94.126234      5.618311    109.922210\n",
              "std    1.742775e+07  6.434392e+07     38.412464      1.924092    491.398368\n",
              "min    0.000000e+00  0.000000e+00      0.000000      0.000000      0.000000\n",
              "25%    0.000000e+00  0.000000e+00     85.000000      5.000000      3.000000\n",
              "50%    0.000000e+00  0.000000e+00     95.000000      6.000000     10.000000\n",
              "75%    0.000000e+00  0.000000e+00    107.000000      6.800000     34.000000\n",
              "max    3.800000e+08  2.787965e+09   1256.000000     10.000000  14075.000000"
            ]
          },
          "execution_count": 27,
          "metadata": {},
          "output_type": "execute_result"
        }
      ],
      "source": [
        "# numerical features info :\n",
        "df_movies_metadata.withColumn(\"budget\", df_movies_metadata.budget.cast('int')).to_koalas().describe()"
      ]
    },
    {
      "cell_type": "markdown",
      "metadata": {
        "id": "CHnWz9MoHbEE"
      },
      "source": [
        "### Recreate a know popularity calculation and compare it to the feature 'popularity' of the movies_metadata"
      ]
    },
    {
      "cell_type": "code",
      "execution_count": 45,
      "metadata": {
        "colab": {
          "base_uri": "https://localhost:8080/"
        },
        "id": "qhKIIz4RGB9G",
        "outputId": "26106666-fd93-4b9f-a43e-bc12a3386648"
      },
      "outputs": [
        {
          "name": "stdout",
          "output_type": "stream",
          "text": [
            "[434.0]\n"
          ]
        }
      ],
      "source": [
        "# Get the 95th percentile of vote count to consider only the most seen movies. According to the profiles it is 434 votes\n",
        "from pyspark.sql.functions import col\n",
        "\n",
        "n = df_movies_metadata.approxQuantile(\"vote_count\", [0.95], 0) # verification\n",
        "print(n)\n",
        "q95_movies = df_movies_metadata.filter(col(\"vote_count\") >= n[0])"
      ]
    },
    {
      "cell_type": "code",
      "execution_count": 48,
      "metadata": {
        "id": "SVj-wdaRIiw3"
      },
      "outputs": [],
      "source": [
        "# Define the weighted_rating function based on the IMDB formula\n",
        "# C = mean vote_average (5.62 according to the profile)\n",
        "C= 5.62\n",
        "def weighted_rating(v, R, n=n[0], C=C):\n",
        "    return (v/(v+n) * R) + (n/(n+v) * C)\n",
        "\n",
        "# adding a score column\n",
        "q95_movies = q95_movies.withColumn(\"score\", weighted_rating(col(\"vote_count\"), col(\"vote_average\")))"
      ]
    },
    {
      "cell_type": "code",
      "execution_count": 90,
      "metadata": {
        "colab": {
          "base_uri": "https://localhost:8080/"
        },
        "id": "biI6fZcZIjMn",
        "outputId": "2f38e7dd-720c-4ca4-a883-78ad5d88f4fb"
      },
      "outputs": [
        {
          "name": "stdout",
          "output_type": "stream",
          "text": [
            "+------------------------+----------+------------+-----+\n",
            "|title                   |vote_count|vote_average|score|\n",
            "+------------------------+----------+------------+-----+\n",
            "|The Shawshank Redemption|8358      |8.5         |8.36 |\n",
            "|The Godfather           |6024      |8.5         |8.31 |\n",
            "|The Dark Knight         |12269     |8.3         |8.21 |\n",
            "|Fight Club              |9678      |8.3         |8.18 |\n",
            "|Pulp Fiction            |8670      |8.3         |8.17 |\n",
            "|Forrest Gump            |8147      |8.2         |8.07 |\n",
            "|Schindler's List        |4436      |8.3         |8.06 |\n",
            "|Whiplash                |4376      |8.3         |8.06 |\n",
            "|Spirited Away           |3968      |8.3         |8.04 |\n",
            "|The Empire Strikes Back |5998      |8.2         |8.03 |\n",
            "+------------------------+----------+------------+-----+\n",
            "only showing top 10 rows\n",
            "\n"
          ]
        }
      ],
      "source": [
        "# Display the top 10 movies according to score\n",
        "from pyspark.sql.functions import round\n",
        "q_movies = q95_movies.sort(col(\"score\").desc())\n",
        "q_movies.select(\"title\", \"vote_count\", \"vote_average\", round(col(\"score\"),2).alias('score')).show(10, truncate=False)"
      ]
    },
    {
      "cell_type": "markdown",
      "metadata": {
        "id": "vjHA7e84O7Al"
      },
      "source": [
        "Compare to the 'popularity' feature given in the dataset (yet the calcul is not explained)"
      ]
    },
    {
      "cell_type": "code",
      "execution_count": 76,
      "metadata": {
        "id": "0u-fughBOdJ3"
      },
      "outputs": [],
      "source": [
        "import matplotlib.pyplot as plt\n",
        "df_pop_num = df_movies_metadata.withColumn('popularity', df_movies_metadata.popularity.cast('float'))\n",
        "sorted_df = df_pop_num.sort(col(\"popularity\").desc())\n",
        "top_10_movies = sorted_df.select(\"title\", \"popularity\").limit(10)"
      ]
    },
    {
      "cell_type": "code",
      "execution_count": 77,
      "metadata": {
        "id": "t0AA9KTAQeKE"
      },
      "outputs": [],
      "source": [
        "# Get a list of tuples for titles and popularity values\n",
        "top_10_movies_list = top_10_movies.rdd.map(lambda x: (x[0], x[1])).collect()\n",
        "\n",
        "titles = [x[0] for x in top_10_movies_list]\n",
        "popularity = [x[1] for x in top_10_movies_list]"
      ]
    },
    {
      "cell_type": "code",
      "execution_count": 78,
      "metadata": {
        "colab": {
          "base_uri": "https://localhost:8080/",
          "height": 437
        },
        "id": "XAvmIZyrQgS0",
        "outputId": "01afa01e-aafc-4b85-f19c-c811050f44ab"
      },
      "outputs": [
        {
          "data": {
            "image/png": "[encoded data removed]",
            "text/plain": [
              "<Figure size 432x288 with 1 Axes>"
            ]
          },
          "metadata": {
            "needs_background": "light"
          },
          "output_type": "display_data"
        }
      ],
      "source": [
        "# Create a bar chart\n",
        "%matplotlib inline\n",
        "plt.bar(titles, popularity)\n",
        "plt.xlabel(\"Movie Title\")\n",
        "plt.ylabel(\"Popularity\")\n",
        "plt.title(\"Top 10 Movies by Popularity\")\n",
        "plt.xticks(rotation=90)\n",
        "plt.show()"
      ]
    },
    {
      "cell_type": "markdown",
      "metadata": {
        "id": "YS_rZus7U3V1"
      },
      "source": [
        "Now within the 95th percentile of vote count"
      ]
    },
    {
      "cell_type": "code",
      "execution_count": 87,
      "metadata": {
        "id": "-dR2IVV2Rqm7"
      },
      "outputs": [],
      "source": [
        "top_10_movies_q95 = q95_movies.withColumn('popularity', q95_movies.popularity.cast('float')).sort(col(\"popularity\").desc()).select(\"title\", \"popularity\").limit(10)\n",
        "top_10_movies_q95_list = top_10_movies_q95.rdd.map(lambda x: (x[0], x[1])).collect()\n",
        "titles_q95 = [x[0] for x in top_10_movies_q95_list]\n",
        "popularity_q95 = [x[1] for x in top_10_movies_q95_list]"
      ]
    },
    {
      "cell_type": "code",
      "execution_count": 88,
      "metadata": {
        "colab": {
          "base_uri": "https://localhost:8080/",
          "height": 437
        },
        "id": "Q7uouO_VVv3U",
        "outputId": "6ed712e0-2fbf-4f6d-b990-cc9e17fbe848"
      },
      "outputs": [
        {
          "data": {
            "image/png": "[encoded data removed]",
            "text/plain": [
              "<Figure size 432x288 with 1 Axes>"
            ]
          },
          "metadata": {
            "needs_background": "light"
          },
          "output_type": "display_data"
        }
      ],
      "source": [
        "%matplotlib inline\n",
        "plt.bar(titles_q95, popularity_q95)\n",
        "plt.xlabel(\"Movie Title\")\n",
        "plt.ylabel(\"Popularity\")\n",
        "plt.title(\"Top 10 Movies by Popularity among 5% most seen\")\n",
        "plt.xticks(rotation=90)\n",
        "plt.show()"
      ]
    },
    {
      "cell_type": "markdown",
      "metadata": {
        "id": "bo6e22wrW5k4"
      },
      "source": [
        "Result is that 'popularity' metric is not calculated on the same base as IMDB popularity score."
      ]
    }
  ],
  "metadata": {
    "colab": {
      "provenance": []
    },
    "kernelspec": {
      "display_name": "base",
      "language": "python",
      "name": "python3"
    },
    "language_info": {
      "codemirror_mode": {
        "name": "ipython",
        "version": 3
      },
      "file_extension": ".py",
      "mimetype": "text/x-python",
      "name": "python",
      "nbconvert_exporter": "python",
      "pygments_lexer": "ipython3",
      "version": "3.8.8"
    },
    "orig_nbformat": 4,
    "vscode": {
      "interpreter": {
        "hash": "bfb5a87c35bcd43997975c71900d67fd988e3d78f446c88335b459b4ff2da931"
      }
    }
  },
  "nbformat": 4,
  "nbformat_minor": 0
}
